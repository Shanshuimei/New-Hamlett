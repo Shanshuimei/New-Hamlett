{
 "cells": [
  {
   "cell_type": "markdown",
   "metadata": {},
   "source": [
    "# Sentiment Analysis"
   ]
  },
  {
   "cell_type": "markdown",
   "metadata": {},
   "source": [
    "## 提取Utterance和Sentiment列"
   ]
  },
  {
   "cell_type": "code",
   "execution_count": 7,
   "metadata": {},
   "outputs": [
    {
     "name": "stdout",
     "output_type": "stream",
     "text": [
      "提取的列已保存到 E:/Study/Course/Enter-Shakespeare-s-play-world/data/Emotion Recognition and Sentiment Analysis/CPED/Sentiment_Analysis.csv\n"
     ]
    }
   ],
   "source": [
    "import pandas as pd\n",
    "\n",
    "# 读取CSV文件\n",
    "file_path = 'E:/Study/Course/Enter-Shakespeare-s-play-world/data/Emotion Recognition and Sentiment Analysis/CPED/train_split.csv'\n",
    "df = pd.read_csv(file_path)\n",
    "\n",
    "# 提取Utterance和Sentiment列\n",
    "extracted_df = df[['Utterance', 'Sentiment']]\n",
    "\n",
    "# 保存提取的列到新的CSV文件\n",
    "output_path = 'E:/Study/Course/Enter-Shakespeare-s-play-world/data/Emotion Recognition and Sentiment Analysis/CPED/Sentiment_Analysis.csv'\n",
    "extracted_df.to_csv(output_path, index=False)\n",
    "\n",
    "print(f\"提取的列已保存到 {output_path}\")"
   ]
  },
  {
   "cell_type": "markdown",
   "metadata": {},
   "source": [
    "## 将csv文件转化为jsonw文件，其中instruction为utterance，out为sentiment。"
   ]
  },
  {
   "cell_type": "code",
   "execution_count": 8,
   "metadata": {},
   "outputs": [
    {
     "name": "stdout",
     "output_type": "stream",
     "text": [
      "转换后的JSONW文件已保存到 E:/Study/Course/Enter-Shakespeare-s-play-world/data/Emotion Recognition and Sentiment Analysis/CPED/Sentiment Analysis.json\n"
     ]
    }
   ],
   "source": [
    "import json\n",
    "\n",
    "# 转换为JSONW格式\n",
    "jsonw_data = []\n",
    "for index, row in extracted_df.iterrows():\n",
    "    jsonw_data.append({\n",
    "        \"instruction\":\"请判断以下话语的情感极性，是正面、负面还是中性？\",\n",
    "        \"input\": row['Utterance'],\n",
    "        \"output\": row['Sentiment']\n",
    "    })\n",
    "\n",
    "# 保存为JSONW文件\n",
    "output_path = 'E:/Study/Course/Enter-Shakespeare-s-play-world/data/Emotion Recognition and Sentiment Analysis/CPED/Sentiment Analysis.json'\n",
    "with open(output_path, 'w', encoding='utf-8') as f:\n",
    "    json.dump(jsonw_data, f, ensure_ascii=False, indent=4)\n",
    "\n",
    "print(f\"转换后的JSONW文件已保存到 {output_path}\")"
   ]
  },
  {
   "cell_type": "markdown",
   "metadata": {},
   "source": [
    "# Emotion Recognition"
   ]
  },
  {
   "cell_type": "code",
   "execution_count": 2,
   "metadata": {},
   "outputs": [
    {
     "name": "stdout",
     "output_type": "stream",
     "text": [
      "提取的列已保存到 E:/Study/Course/Enter-Shakespeare-s-play-world/data/Emotion Recognition and Sentiment Analysis/CPED/Emotion Recognition.csv\n"
     ]
    }
   ],
   "source": [
    "import pandas as pd\n",
    "\n",
    "# 读取CSV文件\n",
    "file_path = 'E:/Study/Course/Enter-Shakespeare-s-play-world/data/Emotion Recognition and Sentiment Analysis/CPED/train_split.csv'\n",
    "df = pd.read_csv(file_path)\n",
    "\n",
    "# 提取Utterance和Sentiment列\n",
    "extracted_df = df[['Utterance', 'Emotion']]\n",
    "\n",
    "# 保存提取的列到新的CSV文件\n",
    "output_path = 'E:/Study/Course/Enter-Shakespeare-s-play-world/data/Emotion Recognition and Sentiment Analysis/CPED/Emotion Recognition.csv'\n",
    "extracted_df.to_csv(output_path, index=False)\n",
    "\n",
    "print(f\"提取的列已保存到 {output_path}\")"
   ]
  },
  {
   "cell_type": "code",
   "execution_count": 3,
   "metadata": {},
   "outputs": [
    {
     "name": "stdout",
     "output_type": "stream",
     "text": [
      "Emotion的唯一值列表:\n",
      "Emotion\n",
      "neutral\n",
      "relaxed\n",
      "anger\n",
      "depress\n",
      "disgust\n",
      "negative-other\n",
      "worried\n",
      "fear\n",
      "happy\n",
      "astonished\n",
      "grateful\n",
      "positive-other\n",
      "sadness\n"
     ]
    }
   ],
   "source": [
    "import pandas as pd\n",
    "\n",
    "# 读取CSV文件\n",
    "file_path = 'E:/Study/Course/Enter-Shakespeare-s-play-world/data/Emotion Recognition and Sentiment Analysis/CPED/Emotion Recognition.csv'\n",
    "df = pd.read_csv(file_path, header=None, names=['Utterance', 'Emotion'])\n",
    "\n",
    "# 提取Emotion列并去重\n",
    "unique_emotions = df['Emotion'].unique()\n",
    "\n",
    "# 输出Emotion的值列表\n",
    "print(\"Emotion的唯一值列表:\")\n",
    "for emotion in unique_emotions:\n",
    "    print(emotion)"
   ]
  },
  {
   "cell_type": "code",
   "execution_count": 5,
   "metadata": {},
   "outputs": [
    {
     "name": "stdout",
     "output_type": "stream",
     "text": [
      "转换后的JSONW文件已保存到 E:/Study/Course/Enter-Shakespeare-s-play-world/data/Emotion Recognition and Sentiment Analysis/CPED/Emotion Recognition.json\n"
     ]
    }
   ],
   "source": [
    "import json\n",
    "\n",
    "# 转换为JSONW格式\n",
    "jsonw_data = []\n",
    "for index, row in extracted_df.iterrows():\n",
    "    jsonw_data.append({\n",
    "        \"instruction\":\"请判断以下话语的情绪，从以下情绪中选择一个进行回答：neutral,relaxed,anger,depres,disgust,worried,fear,happy,astonished,grateful,sadness。\",\n",
    "        \"input\": row['Utterance'],\n",
    "        \"output\": row['Emotion']\n",
    "    })\n",
    "\n",
    "# 保存为JSONW文件\n",
    "output_path = 'E:/Study/Course/Enter-Shakespeare-s-play-world/data/Emotion Recognition and Sentiment Analysis/CPED/Emotion Recognition.json'\n",
    "with open(output_path, 'w', encoding='utf-8') as f:\n",
    "    json.dump(jsonw_data, f, ensure_ascii=False, indent=4)\n",
    "\n",
    "print(f\"转换后的JSONW文件已保存到 {output_path}\")"
   ]
  }
 ],
 "metadata": {
  "kernelspec": {
   "display_name": "base",
   "language": "python",
   "name": "python3"
  },
  "language_info": {
   "codemirror_mode": {
    "name": "ipython",
    "version": 3
   },
   "file_extension": ".py",
   "mimetype": "text/x-python",
   "name": "python",
   "nbconvert_exporter": "python",
   "pygments_lexer": "ipython3",
   "version": "3.11.4"
  }
 },
 "nbformat": 4,
 "nbformat_minor": 2
}
