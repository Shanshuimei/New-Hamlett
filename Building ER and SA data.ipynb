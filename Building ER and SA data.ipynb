{
 "cells": [
  {
   "cell_type": "markdown",
   "metadata": {},
   "source": [
    "# Sentiment Analysis"
   ]
  },
  {
   "cell_type": "markdown",
   "metadata": {},
   "source": [
    "## 提取Utterance和Sentiment列"
   ]
  },
  {
   "cell_type": "code",
   "execution_count": null,
   "metadata": {},
   "outputs": [],
   "source": [
    "import pandas as pd\n",
    "\n",
    "# 读取CSV文件\n",
    "file_path = './data/Emotion Recognition and Sentiment Analysis/CPED/train_split.csv'\n",
    "df = pd.read_csv(file_path)\n",
    "\n",
    "# 提取Utterance和Sentiment列\n",
    "extracted_df = df[['Utterance', 'Sentiment']]\n",
    "\n",
    "# 保存提取的列到新的CSV文件\n",
    "output_path = './data/Emotion Recognition and Sentiment Analysis/CPED/Sentiment_Analysis.csv'\n",
    "extracted_df.to_csv(output_path, index=False)\n",
    "\n",
    "print(f\"提取的列已保存到 {output_path}\")"
   ]
  },
  {
   "cell_type": "code",
   "execution_count": null,
   "metadata": {},
   "outputs": [],
   "source": [
    "# 提取Emotion列并去重\n",
    "unique_sentiment = df['Sentiment'].unique()\n",
    "\n",
    "# 输出Emotion的值列表\n",
    "print(\"Emotion的唯一值列表:\")\n",
    "for sentiment in unique_sentiment:\n",
    "    print(sentiment)"
   ]
  },
  {
   "cell_type": "markdown",
   "metadata": {},
   "source": [
    "## 将csv文件转化为jsonw文件，其中instruction为utterance，out为sentiment。"
   ]
  },
  {
   "cell_type": "code",
   "execution_count": null,
   "metadata": {},
   "outputs": [],
   "source": [
    "import json\n",
    "\n",
    "# 转换为JSONW格式\n",
    "jsonw_data = []\n",
    "for index, row in extracted_df.iterrows():\n",
    "    jsonw_data.append({\n",
    "        \"instruction\":\"请判断以下话语的情感极性，是正面、负面还是中性？\",\n",
    "        \"input\": row['Utterance'],\n",
    "        \"output\": row['Sentiment']\n",
    "    })\n",
    "\n",
    "# 保存为JSONW文件\n",
    "output_path = 'E:/Study/Course/Enter-Shakespeare-s-play-world/data/Emotion Recognition and Sentiment Analysis/CPED/Sentiment Analysis.json'\n",
    "with open(output_path, 'w', encoding='utf-8') as f:\n",
    "    json.dump(jsonw_data, f, ensure_ascii=False, indent=4)\n",
    "\n",
    "print(f\"转换后的JSONW文件已保存到 {output_path}\")"
   ]
  },
  {
   "cell_type": "markdown",
   "metadata": {},
   "source": [
    "# Emotion Recognition"
   ]
  },
  {
   "cell_type": "code",
   "execution_count": 2,
   "metadata": {},
   "outputs": [
    {
     "name": "stdout",
     "output_type": "stream",
     "text": [
      "提取的列已保存到 ./data/Emotion Recognition and Sentiment Analysis/CPED/Emotion Recognition.csv\n"
     ]
    }
   ],
   "source": [
    "import pandas as pd\n",
    "\n",
    "# 读取CSV文件\n",
    "file_path = './data/Emotion Recognition and Sentiment Analysis/CPED/train_split.csv'\n",
    "df = pd.read_csv(file_path)\n",
    "\n",
    "# 提取Utterance和Sentiment列\n",
    "extracted_df = df[['Utterance', 'Emotion']]\n",
    "\n",
    "# 保存提取的列到新的CSV文件\n",
    "output_path = './data/Emotion Recognition and Sentiment Analysis/CPED/Emotion Recognition.csv'\n",
    "extracted_df.to_csv(output_path, index=False)\n",
    "\n",
    "print(f\"提取的列已保存到 {output_path}\")"
   ]
  },
  {
   "cell_type": "code",
   "execution_count": null,
   "metadata": {},
   "outputs": [
    {
     "name": "stdout",
     "output_type": "stream",
     "text": [
      "Emotion的唯一值列表:\n",
      "Emotion\n",
      "neutral\n",
      "relaxed\n",
      "anger\n",
      "depress\n",
      "disgust\n",
      "negative-other\n",
      "worried\n",
      "fear\n",
      "happy\n",
      "astonished\n",
      "grateful\n",
      "positive-other\n",
      "sadness\n"
     ]
    }
   ],
   "source": [
    "import pandas as pd\n",
    "\n",
    "# 读取CSV文件\n",
    "file_path = './data/Emotion Recognition and Sentiment Analysis/CPED/Emotion Recognition.csv'\n",
    "df = pd.read_csv(file_path, header=0, names=['Utterance', 'Emotion'])\n",
    "\n",
    "# 提取Emotion列并去重\n",
    "unique_emotions = df['Emotion'].unique()\n",
    "\n",
    "# 输出Emotion的值列表\n",
    "print(\"Emotion的唯一值列表:\")\n",
    "for emotion in unique_emotions:\n",
    "    print(emotion)"
   ]
  },
  {
   "cell_type": "code",
   "execution_count": 6,
   "metadata": {},
   "outputs": [
    {
     "name": "stdout",
     "output_type": "stream",
     "text": [
      "           Utterance  Emotion\n",
      "0          Utterance  Emotion\n",
      "1                 真巧  neutral\n",
      "2               车没事了  neutral\n",
      "3      是你呀 没事了没事 谢谢你  neutral\n",
      "4         没事没事 你也去春风  neutral\n",
      "...              ...      ...\n",
      "94183  不过你要是真有勇气离开北京  neutral\n",
      "94184      我反倒对你刮目相看  neutral\n",
      "94185          可你走不了  neutral\n",
      "94186          我真得走了  neutral\n",
      "94187             再见  neutral\n",
      "\n",
      "[80318 rows x 2 columns]\n"
     ]
    }
   ],
   "source": [
    "# 删除Emotion列为negative-other和positive-other的行\n",
    "df = df[~df['Emotion'].isin(['negative-other', 'positive-other'])]\n",
    "\n",
    "# 输出删除后的数据框\n",
    "print(df)"
   ]
  },
  {
   "cell_type": "code",
   "execution_count": 7,
   "metadata": {},
   "outputs": [
    {
     "name": "stdout",
     "output_type": "stream",
     "text": [
      "Emotion的唯一值列表:\n",
      "Emotion\n",
      "neutral\n",
      "relaxed\n",
      "anger\n",
      "depress\n",
      "disgust\n",
      "worried\n",
      "fear\n",
      "happy\n",
      "astonished\n",
      "grateful\n",
      "sadness\n"
     ]
    }
   ],
   "source": [
    "# 提取Emotion列并去重\n",
    "unique_emotions = df['Emotion'].unique()\n",
    "\n",
    "# 输出Emotion的值列表\n",
    "print(\"Emotion的唯一值列表:\")\n",
    "for emotion in unique_emotions:\n",
    "    print(emotion)"
   ]
  },
  {
   "cell_type": "code",
   "execution_count": 8,
   "metadata": {},
   "outputs": [
    {
     "name": "stdout",
     "output_type": "stream",
     "text": [
      "转换后的JSONW文件已保存到 ./data/Emotion Recognition and Sentiment Analysis/CPED/Emotion Recognition.json\n"
     ]
    }
   ],
   "source": [
    "import json\n",
    "\n",
    "# 转换为JSONW格式\n",
    "jsonw_data = []\n",
    "for index, row in extracted_df.iterrows():\n",
    "    jsonw_data.append({\n",
    "        \"instruction\":\"请判断以下话语的情绪，从以下情绪中选择一个进行回答：neutral,relaxed,anger,depres,disgust,worried,fear,happy,astonished,grateful,sadness。\",\n",
    "        \"input\": row['Utterance'],\n",
    "        \"output\": row['Emotion']\n",
    "    })\n",
    "\n",
    "# 保存为JSONW文件\n",
    "output_path = './data/Emotion Recognition and Sentiment Analysis/CPED/Emotion Recognition.json'\n",
    "with open(output_path, 'w', encoding='utf-8') as f:\n",
    "    json.dump(jsonw_data, f, ensure_ascii=False, indent=4)\n",
    "\n",
    "print(f\"转换后的JSONW文件已保存到 {output_path}\")"
   ]
  },
  {
   "cell_type": "markdown",
   "metadata": {},
   "source": [
    "## Short version"
   ]
  },
  {
   "cell_type": "code",
   "execution_count": 11,
   "metadata": {},
   "outputs": [],
   "source": [
    "# 按类别均匀抽样\n",
    "sampled_df = df.groupby('Emotion').apply(lambda x: x.sample(n=min(1000 // len(df['Emotion'].unique()), len(x)), random_state=42)).reset_index(drop=True)\n",
    "sampled_df.to_csv('ER_1000.csv', index=False)"
   ]
  },
  {
   "cell_type": "code",
   "execution_count": 12,
   "metadata": {},
   "outputs": [],
   "source": [
    "# 按类别均匀抽样\n",
    "sampled_df = df.groupby('Sentiment').apply(lambda x: x.sample(n=min(1000 // len(df['Sentiment'].unique()), len(x)), random_state=42)).reset_index(drop=True)\n",
    "sampled_df.to_csv('SA_1000.csv', index=False)"
   ]
  },
  {
   "cell_type": "markdown",
   "metadata": {},
   "source": [
    "# 构建验证集"
   ]
  },
  {
   "cell_type": "code",
   "execution_count": null,
   "metadata": {},
   "outputs": [],
   "source": [
    "import pandas as pd\n",
    "import json\n",
    "\n",
    "# 读取CSV文件\n",
    "file_path = 'data/Emotion Recognition and Sentiment Analysis/CPED/test_split.csv'\n",
    "df = pd.read_csv(file_path)\n",
    "\n",
    "# 提取Utterance和Sentiment列\n",
    "Sentiment_df = df[['Utterance', 'Sentiment']].head(2000)\n",
    "# 提取Utterance和Emotion列\n",
    "Emotion_df = df[['Utterance', 'Emotion']].head(2000)\n",
    "\n",
    "# 转换为JSONL格式\n",
    "output_path1 = 'data/Emotion Recognition and Sentiment Analysis/CPED/test_ER.jsonl'\n",
    "with open(output_path1, 'w', encoding='utf-8') as f:\n",
    "    for index, row in Emotion_df.iterrows():\n",
    "        json_record = json.dumps({\"input\": row['Utterance'], \"target\": row['Emotion']}, ensure_ascii=False)\n",
    "        f.write(json_record + '\\n')\n",
    "print(f\"转换后的ER文件已保存到 {output_path1}\")\n",
    "\n",
    "output_path2 = 'data/Emotion Recognition and Sentiment Analysis/CPED/test_SA.jsonl'\n",
    "with open(output_path2, 'w', encoding='utf-8') as f:\n",
    "    for index, row in Sentiment_df.iterrows():\n",
    "        json_record = json.dumps({\"input\": row['Utterance'], \"target\": row['Sentiment']}, ensure_ascii=False)\n",
    "        f.write(json_record + '\\n')\n",
    "print(f\"转换后的SA文件已保存到 {output_path2}\")"
   ]
  }
 ],
 "metadata": {
  "kernelspec": {
   "display_name": "Python 3",
   "language": "python",
   "name": "python3"
  },
  "language_info": {
   "codemirror_mode": {
    "name": "ipython",
    "version": 3
   },
   "file_extension": ".py",
   "mimetype": "text/x-python",
   "name": "python",
   "nbconvert_exporter": "python",
   "pygments_lexer": "ipython3",
   "version": "undefined.undefined.undefined"
  }
 },
 "nbformat": 4,
 "nbformat_minor": 2
}
